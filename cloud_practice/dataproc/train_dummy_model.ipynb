{
 "cells": [
  {
   "cell_type": "code",
   "execution_count": 1,
   "id": "908dbae4",
   "metadata": {},
   "outputs": [],
   "source": [
    "# !pip install findspark==2.0.1\n",
    "# !pip install pandas==2.0.0\n",
    "# !pip install numpy==1.24.2\n",
    "# !pip install catboost==1.2.2"
   ]
  },
  {
   "cell_type": "code",
   "execution_count": 2,
   "id": "43af7ab1",
   "metadata": {},
   "outputs": [],
   "source": [
    "import os\n",
    "\n",
    "import findspark\n",
    "\n",
    "\n",
    "findspark.init()\n",
    "findspark.find()\n",
    "\n",
    "\n",
    "from pyspark.sql import SparkSession\n",
    "from pyspark import SparkConf\n",
    "from catboost import CatBoostClassifier"
   ]
  },
  {
   "cell_type": "code",
   "execution_count": null,
   "id": "168166f9",
   "metadata": {},
   "outputs": [],
   "source": [
    "os.environ['PYSPARK_DRIVER_PYTHON'] = \"python\"\n",
    "os.environ['PYSPARK_PYTHON'] = \"./environment/bin/python\""
   ]
  },
  {
   "cell_type": "code",
   "execution_count": 3,
   "id": "abde5076",
   "metadata": {},
   "outputs": [],
   "source": [
    "conf = (\n",
    "    SparkConf().setMaster(\"yarn\").setAppName(\"train_dummy_model\")\n",
    "        .set(\"spark.executor.memory\", \"2g\")\n",
    "        .set(\"spark.driver.memory\", \"4g\")\n",
    "        .set(\"spark.sql.execution.arrow.pyspark.enabled\", \"true\")\n",
    ")\n",
    "\n",
    "\n",
    "spark = SparkSession.builder.config(conf=conf).getOrCreate()"
   ]
  },
  {
   "cell_type": "code",
   "execution_count": 4,
   "id": "6bc9f101",
   "metadata": {},
   "outputs": [],
   "source": [
    "DEFAULT_INPUT_DATA_PATH = \"s3a://automl-otus-practice/data.csv\""
   ]
  },
  {
   "cell_type": "code",
   "execution_count": 5,
   "id": "daed3d19",
   "metadata": {},
   "outputs": [],
   "source": [
    "sdf = (\n",
    "    spark.read\n",
    "    .format('csv')\n",
    "    .options(header='true', inferSchema='true', delimiter=\",\")\n",
    "    .load(DEFAULT_INPUT_DATA_PATH)\n",
    ")\n",
    "\n",
    "pdf = sdf.toPandas()"
   ]
  },
  {
   "cell_type": "code",
   "execution_count": 6,
   "id": "0b8a8c71",
   "metadata": {},
   "outputs": [],
   "source": [
    "spark.stop()"
   ]
  },
  {
   "cell_type": "code",
   "execution_count": 7,
   "id": "11fd6974",
   "metadata": {},
   "outputs": [],
   "source": [
    "features = [\n",
    "    'has_more_payment_types', 'has_sequential', 'has_installments', 'avg_payment_value',\n",
    "    'mean_days_purchase_to_approved', 'mean_days_approved_to_carrier',\n",
    "    'mean_days_limit_to_carrier', 'buy_has_work_day', 'itens', 'sum_price',\n",
    "    'sum_freight', 'sum_same_city', 'sum_same_state', 'mean_distance_km',\n",
    "    'mean_p_name_lenght', 'mean_p_photos_qty', 'mean_p_weight_g',\n",
    "    'mean_volume', 'mean_length_width_ratio'\n",
    "]\n",
    "target = \"score\"\n",
    "\n",
    "train = pdf[features]\n",
    "y = pdf[target]\n",
    "\n",
    "\n",
    "model = CatBoostClassifier(\n",
    "    loss_function='MultiClass',\n",
    "    bootstrap_type='Bernoulli',\n",
    "    learning_rate=0.01,\n",
    "    n_estimators=300,\n",
    "    subsample=0.5,\n",
    "    depth=4,\n",
    "    verbose=False,\n",
    ")"
   ]
  },
  {
   "cell_type": "code",
   "execution_count": 8,
   "id": "007401a8",
   "metadata": {},
   "outputs": [],
   "source": [
    "model.fit(train, y).save_model(\"model.cbm\", format=\"cbm\")"
   ]
  }
 ],
 "metadata": {
  "kernelspec": {
   "display_name": "Python 3",
   "language": "python",
   "name": "python3"
  },
  "language_info": {
   "codemirror_mode": {
    "name": "ipython",
    "version": 3
   },
   "file_extension": ".py",
   "mimetype": "text/x-python",
   "name": "python",
   "nbconvert_exporter": "python",
   "pygments_lexer": "ipython3",
   "version": "3.8.10"
  }
 },
 "nbformat": 4,
 "nbformat_minor": 5
}
