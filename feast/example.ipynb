{
 "cells": [
  {
   "cell_type": "code",
   "execution_count": null,
   "id": "f33c3f10-4827-471d-8203-56bf32746e54",
   "metadata": {},
   "outputs": [],
   "source": [
    "import os\n",
    "from datetime import datetime\n",
    "\n",
    "import pandas as pd\n",
    "from feast import FeatureStore"
   ]
  },
  {
   "cell_type": "code",
   "execution_count": null,
   "id": "a624fcb4-45c2-4a46-b4e6-d6ac877b1360",
   "metadata": {},
   "outputs": [],
   "source": [
    "raw_data_path = os.path.join(\"feature_store\", \"feature_repo\", \"data\", \"driver_stats.parquet\")\n",
    "feature_store_path = os.path.join(\"feature_store\", \"feature_repo\")"
   ]
  },
  {
   "cell_type": "markdown",
   "id": "0d2e9c5c-413a-4915-9d79-9d79e25a6e1e",
   "metadata": {},
   "source": [
    "### Check data"
   ]
  },
  {
   "cell_type": "code",
   "execution_count": 5,
   "id": "900c6e18-5539-4b6a-bc62-8d1dcee1ace3",
   "metadata": {},
   "outputs": [],
   "source": [
    "df = pd.read_parquet(raw_data_path)"
   ]
  },
  {
   "cell_type": "code",
   "execution_count": 7,
   "id": "8b0998f9-98ba-4f2f-a59c-e388af9572c9",
   "metadata": {},
   "outputs": [
    {
     "data": {
      "text/html": [
       "<div>\n",
       "<style scoped>\n",
       "    .dataframe tbody tr th:only-of-type {\n",
       "        vertical-align: middle;\n",
       "    }\n",
       "\n",
       "    .dataframe tbody tr th {\n",
       "        vertical-align: top;\n",
       "    }\n",
       "\n",
       "    .dataframe thead th {\n",
       "        text-align: right;\n",
       "    }\n",
       "</style>\n",
       "<table border=\"1\" class=\"dataframe\">\n",
       "  <thead>\n",
       "    <tr style=\"text-align: right;\">\n",
       "      <th></th>\n",
       "      <th>event_timestamp</th>\n",
       "      <th>driver_id</th>\n",
       "      <th>conv_rate</th>\n",
       "      <th>acc_rate</th>\n",
       "      <th>avg_daily_trips</th>\n",
       "      <th>created</th>\n",
       "    </tr>\n",
       "  </thead>\n",
       "  <tbody>\n",
       "    <tr>\n",
       "      <th>0</th>\n",
       "      <td>2024-10-02 11:00:00+00:00</td>\n",
       "      <td>1005</td>\n",
       "      <td>0.429879</td>\n",
       "      <td>0.194598</td>\n",
       "      <td>582</td>\n",
       "      <td>2024-10-17 11:30:07.072</td>\n",
       "    </tr>\n",
       "    <tr>\n",
       "      <th>1</th>\n",
       "      <td>2024-10-02 12:00:00+00:00</td>\n",
       "      <td>1005</td>\n",
       "      <td>0.230119</td>\n",
       "      <td>0.642878</td>\n",
       "      <td>551</td>\n",
       "      <td>2024-10-17 11:30:07.072</td>\n",
       "    </tr>\n",
       "    <tr>\n",
       "      <th>2</th>\n",
       "      <td>2024-10-02 13:00:00+00:00</td>\n",
       "      <td>1005</td>\n",
       "      <td>0.128600</td>\n",
       "      <td>0.674187</td>\n",
       "      <td>38</td>\n",
       "      <td>2024-10-17 11:30:07.072</td>\n",
       "    </tr>\n",
       "    <tr>\n",
       "      <th>3</th>\n",
       "      <td>2024-10-02 14:00:00+00:00</td>\n",
       "      <td>1005</td>\n",
       "      <td>0.400603</td>\n",
       "      <td>0.473636</td>\n",
       "      <td>583</td>\n",
       "      <td>2024-10-17 11:30:07.072</td>\n",
       "    </tr>\n",
       "    <tr>\n",
       "      <th>4</th>\n",
       "      <td>2024-10-02 15:00:00+00:00</td>\n",
       "      <td>1005</td>\n",
       "      <td>0.803716</td>\n",
       "      <td>0.016832</td>\n",
       "      <td>547</td>\n",
       "      <td>2024-10-17 11:30:07.072</td>\n",
       "    </tr>\n",
       "  </tbody>\n",
       "</table>\n",
       "</div>"
      ],
      "text/plain": [
       "            event_timestamp  driver_id  conv_rate  acc_rate  avg_daily_trips  \\\n",
       "0 2024-10-02 11:00:00+00:00       1005   0.429879  0.194598              582   \n",
       "1 2024-10-02 12:00:00+00:00       1005   0.230119  0.642878              551   \n",
       "2 2024-10-02 13:00:00+00:00       1005   0.128600  0.674187               38   \n",
       "3 2024-10-02 14:00:00+00:00       1005   0.400603  0.473636              583   \n",
       "4 2024-10-02 15:00:00+00:00       1005   0.803716  0.016832              547   \n",
       "\n",
       "                  created  \n",
       "0 2024-10-17 11:30:07.072  \n",
       "1 2024-10-17 11:30:07.072  \n",
       "2 2024-10-17 11:30:07.072  \n",
       "3 2024-10-17 11:30:07.072  \n",
       "4 2024-10-17 11:30:07.072  "
      ]
     },
     "execution_count": 7,
     "metadata": {},
     "output_type": "execute_result"
    }
   ],
   "source": [
    "df.head(5)"
   ]
  },
  {
   "cell_type": "markdown",
   "id": "8765696b-10fb-40f2-ab9f-57f08f747a8d",
   "metadata": {},
   "source": [
    "### Features inference"
   ]
  },
  {
   "cell_type": "code",
   "execution_count": 24,
   "id": "902f97c8-ce54-4741-ba3d-51366453ca73",
   "metadata": {},
   "outputs": [],
   "source": [
    "entity_df = pd.DataFrame.from_dict(\n",
    "    {\n",
    "        # entity's join key -> entity values\n",
    "        \"driver_id\": [1001, 1002, 1003],\n",
    "        # \"event_timestamp\" (reserved key) -> timestamps\n",
    "        \"event_timestamp\": [\n",
    "            datetime(2021, 4, 12, 10, 59, 42),\n",
    "            datetime(2021, 4, 12, 8, 12, 10),\n",
    "            datetime(2021, 4, 12, 16, 40, 26),\n",
    "        ],\n",
    "        # (optional) label name -> label values. Feast does not process these\n",
    "        \"label_driver_reported_satisfaction\": [1, 5, 3],\n",
    "    }\n",
    ")"
   ]
  },
  {
   "cell_type": "code",
   "execution_count": 25,
   "id": "9cd2cb33-2764-4467-847d-e55cc0f07084",
   "metadata": {},
   "outputs": [
    {
     "data": {
      "text/html": [
       "<div>\n",
       "<style scoped>\n",
       "    .dataframe tbody tr th:only-of-type {\n",
       "        vertical-align: middle;\n",
       "    }\n",
       "\n",
       "    .dataframe tbody tr th {\n",
       "        vertical-align: top;\n",
       "    }\n",
       "\n",
       "    .dataframe thead th {\n",
       "        text-align: right;\n",
       "    }\n",
       "</style>\n",
       "<table border=\"1\" class=\"dataframe\">\n",
       "  <thead>\n",
       "    <tr style=\"text-align: right;\">\n",
       "      <th></th>\n",
       "      <th>driver_id</th>\n",
       "      <th>event_timestamp</th>\n",
       "      <th>label_driver_reported_satisfaction</th>\n",
       "    </tr>\n",
       "  </thead>\n",
       "  <tbody>\n",
       "    <tr>\n",
       "      <th>0</th>\n",
       "      <td>1001</td>\n",
       "      <td>2021-04-12 10:59:42</td>\n",
       "      <td>1</td>\n",
       "    </tr>\n",
       "    <tr>\n",
       "      <th>1</th>\n",
       "      <td>1002</td>\n",
       "      <td>2021-04-12 08:12:10</td>\n",
       "      <td>5</td>\n",
       "    </tr>\n",
       "    <tr>\n",
       "      <th>2</th>\n",
       "      <td>1003</td>\n",
       "      <td>2021-04-12 16:40:26</td>\n",
       "      <td>3</td>\n",
       "    </tr>\n",
       "  </tbody>\n",
       "</table>\n",
       "</div>"
      ],
      "text/plain": [
       "   driver_id     event_timestamp  label_driver_reported_satisfaction\n",
       "0       1001 2021-04-12 10:59:42                                   1\n",
       "1       1002 2021-04-12 08:12:10                                   5\n",
       "2       1003 2021-04-12 16:40:26                                   3"
      ]
     },
     "execution_count": 25,
     "metadata": {},
     "output_type": "execute_result"
    }
   ],
   "source": [
    "entity_df"
   ]
  },
  {
   "cell_type": "code",
   "execution_count": 14,
   "id": "b24e1ed1-b6ac-43ec-b881-732671b57c69",
   "metadata": {},
   "outputs": [],
   "source": [
    "store = FeatureStore(repo_path=feature_store_path)"
   ]
  },
  {
   "cell_type": "code",
   "execution_count": 22,
   "id": "077dc5fb-26ac-4ab5-b1bc-e379ee2164cf",
   "metadata": {},
   "outputs": [
    {
     "name": "stderr",
     "output_type": "stream",
     "text": [
      "WARNING:root:_list_feature_views will make breaking changes. Please use _list_batch_feature_views instead. _list_feature_views will behave like _list_all_feature_views in the future.\n"
     ]
    },
    {
     "name": "stdout",
     "output_type": "stream",
     "text": [
      "----- Feature schema -----\n",
      "\n",
      "<class 'pandas.core.frame.DataFrame'>\n",
      "RangeIndex: 3 entries, 0 to 2\n",
      "Data columns (total 8 columns):\n",
      " #   Column                              Non-Null Count  Dtype              \n",
      "---  ------                              --------------  -----              \n",
      " 0   driver_id                           3 non-null      int64              \n",
      " 1   event_timestamp                     3 non-null      datetime64[ns, UTC]\n",
      " 2   label_driver_reported_satisfaction  3 non-null      int64              \n",
      " 3   val_to_add                          3 non-null      int64              \n",
      " 4   val_to_add_2                        3 non-null      int64              \n",
      " 5   conv_rate                           3 non-null      float32            \n",
      " 6   acc_rate                            3 non-null      float32            \n",
      " 7   avg_daily_trips                     3 non-null      int32              \n",
      "dtypes: datetime64[ns, UTC](1), float32(2), int32(1), int64(4)\n",
      "memory usage: 288.0 bytes\n",
      "None\n"
     ]
    }
   ],
   "source": [
    "training_df = store.get_historical_features(\n",
    "    entity_df=entity_df,\n",
    "    features=[\n",
    "        \"driver_hourly_stats:conv_rate\",\n",
    "        \"driver_hourly_stats:acc_rate\",\n",
    "        \"driver_hourly_stats:avg_daily_trips\",\n",
    "    ],\n",
    ").to_df()\n",
    "\n",
    "print(\"----- Feature schema -----\\n\")\n",
    "print(training_df.info())"
   ]
  },
  {
   "cell_type": "code",
   "execution_count": 23,
   "id": "cfeee199-39e6-4d19-8656-f4a4401d8723",
   "metadata": {},
   "outputs": [
    {
     "data": {
      "text/html": [
       "<div>\n",
       "<style scoped>\n",
       "    .dataframe tbody tr th:only-of-type {\n",
       "        vertical-align: middle;\n",
       "    }\n",
       "\n",
       "    .dataframe tbody tr th {\n",
       "        vertical-align: top;\n",
       "    }\n",
       "\n",
       "    .dataframe thead th {\n",
       "        text-align: right;\n",
       "    }\n",
       "</style>\n",
       "<table border=\"1\" class=\"dataframe\">\n",
       "  <thead>\n",
       "    <tr style=\"text-align: right;\">\n",
       "      <th></th>\n",
       "      <th>driver_id</th>\n",
       "      <th>event_timestamp</th>\n",
       "      <th>label_driver_reported_satisfaction</th>\n",
       "      <th>val_to_add</th>\n",
       "      <th>val_to_add_2</th>\n",
       "      <th>conv_rate</th>\n",
       "      <th>acc_rate</th>\n",
       "      <th>avg_daily_trips</th>\n",
       "    </tr>\n",
       "  </thead>\n",
       "  <tbody>\n",
       "    <tr>\n",
       "      <th>0</th>\n",
       "      <td>1001</td>\n",
       "      <td>2021-04-12 10:59:42+00:00</td>\n",
       "      <td>1</td>\n",
       "      <td>1</td>\n",
       "      <td>10</td>\n",
       "      <td>0.709758</td>\n",
       "      <td>0.692957</td>\n",
       "      <td>402</td>\n",
       "    </tr>\n",
       "    <tr>\n",
       "      <th>1</th>\n",
       "      <td>1002</td>\n",
       "      <td>2021-04-12 08:12:10+00:00</td>\n",
       "      <td>5</td>\n",
       "      <td>2</td>\n",
       "      <td>20</td>\n",
       "      <td>0.718295</td>\n",
       "      <td>0.584081</td>\n",
       "      <td>370</td>\n",
       "    </tr>\n",
       "    <tr>\n",
       "      <th>2</th>\n",
       "      <td>1003</td>\n",
       "      <td>2021-04-12 16:40:26+00:00</td>\n",
       "      <td>3</td>\n",
       "      <td>3</td>\n",
       "      <td>30</td>\n",
       "      <td>0.697411</td>\n",
       "      <td>0.197680</td>\n",
       "      <td>25</td>\n",
       "    </tr>\n",
       "  </tbody>\n",
       "</table>\n",
       "</div>"
      ],
      "text/plain": [
       "   driver_id           event_timestamp  label_driver_reported_satisfaction  \\\n",
       "0       1001 2021-04-12 10:59:42+00:00                                   1   \n",
       "1       1002 2021-04-12 08:12:10+00:00                                   5   \n",
       "2       1003 2021-04-12 16:40:26+00:00                                   3   \n",
       "\n",
       "   val_to_add  val_to_add_2  conv_rate  acc_rate  avg_daily_trips  \n",
       "0           1            10   0.709758  0.692957              402  \n",
       "1           2            20   0.718295  0.584081              370  \n",
       "2           3            30   0.697411  0.197680               25  "
      ]
     },
     "execution_count": 23,
     "metadata": {},
     "output_type": "execute_result"
    }
   ],
   "source": [
    "training_df.head()"
   ]
  },
  {
   "cell_type": "markdown",
   "id": "ca95b6a0-57d1-4fb0-8190-c93cd82e1f36",
   "metadata": {},
   "source": [
    "### Features View - on demand"
   ]
  },
  {
   "cell_type": "code",
   "execution_count": null,
   "id": "8682dd22-31be-4e71-a672-d558be69078e",
   "metadata": {},
   "outputs": [],
   "source": [
    "entity_df = pd.DataFrame.from_dict(\n",
    "    {\n",
    "        # entity's join key -> entity values\n",
    "        \"driver_id\": [1001, 1002, 1003],\n",
    "        # \"event_timestamp\" (reserved key) -> timestamps\n",
    "        \"event_timestamp\": [\n",
    "            datetime(2021, 4, 12, 10, 59, 42),\n",
    "            datetime(2021, 4, 12, 8, 12, 10),\n",
    "            datetime(2021, 4, 12, 16, 40, 26),\n",
    "        ],\n",
    "        # (optional) label name -> label values. Feast does not process these\n",
    "        \"label_driver_reported_satisfaction\": [1, 5, 3],\n",
    "        # values we're using for an on-demand transformation\n",
    "        \"val_to_add\": [1, 2, 3],\n",
    "        \"val_to_add_2\": [10, 20, 30],\n",
    "    }\n",
    ")"
   ]
  },
  {
   "cell_type": "code",
   "execution_count": 20,
   "id": "b0883583-6c34-4aeb-af77-b47867d689aa",
   "metadata": {},
   "outputs": [
    {
     "name": "stderr",
     "output_type": "stream",
     "text": [
      "WARNING:root:_list_feature_views will make breaking changes. Please use _list_batch_feature_views instead. _list_feature_views will behave like _list_all_feature_views in the future.\n"
     ]
    }
   ],
   "source": [
    "training_df = store.get_historical_features(\n",
    "    entity_df=entity_df,\n",
    "    features=[\n",
    "        \"driver_hourly_stats:conv_rate\",\n",
    "        \"driver_hourly_stats:acc_rate\",\n",
    "        \"driver_hourly_stats:avg_daily_trips\",\n",
    "        \"transformed_conv_rate:conv_rate_plus_val1\",\n",
    "        \"transformed_conv_rate:conv_rate_plus_val2\",\n",
    "    ],\n",
    ").to_df()"
   ]
  },
  {
   "cell_type": "code",
   "execution_count": 21,
   "id": "25b2f0f1-fcd6-4bcc-84c2-9daf381230fc",
   "metadata": {},
   "outputs": [
    {
     "data": {
      "text/html": [
       "<div>\n",
       "<style scoped>\n",
       "    .dataframe tbody tr th:only-of-type {\n",
       "        vertical-align: middle;\n",
       "    }\n",
       "\n",
       "    .dataframe tbody tr th {\n",
       "        vertical-align: top;\n",
       "    }\n",
       "\n",
       "    .dataframe thead th {\n",
       "        text-align: right;\n",
       "    }\n",
       "</style>\n",
       "<table border=\"1\" class=\"dataframe\">\n",
       "  <thead>\n",
       "    <tr style=\"text-align: right;\">\n",
       "      <th></th>\n",
       "      <th>driver_id</th>\n",
       "      <th>event_timestamp</th>\n",
       "      <th>label_driver_reported_satisfaction</th>\n",
       "      <th>val_to_add</th>\n",
       "      <th>val_to_add_2</th>\n",
       "      <th>conv_rate</th>\n",
       "      <th>acc_rate</th>\n",
       "      <th>avg_daily_trips</th>\n",
       "      <th>conv_rate_plus_val1</th>\n",
       "      <th>conv_rate_plus_val2</th>\n",
       "    </tr>\n",
       "  </thead>\n",
       "  <tbody>\n",
       "    <tr>\n",
       "      <th>0</th>\n",
       "      <td>1001</td>\n",
       "      <td>2021-04-12 10:59:42+00:00</td>\n",
       "      <td>1</td>\n",
       "      <td>1</td>\n",
       "      <td>10</td>\n",
       "      <td>0.709758</td>\n",
       "      <td>0.692957</td>\n",
       "      <td>402</td>\n",
       "      <td>1.709758</td>\n",
       "      <td>10.709758</td>\n",
       "    </tr>\n",
       "    <tr>\n",
       "      <th>1</th>\n",
       "      <td>1002</td>\n",
       "      <td>2021-04-12 08:12:10+00:00</td>\n",
       "      <td>5</td>\n",
       "      <td>2</td>\n",
       "      <td>20</td>\n",
       "      <td>0.718295</td>\n",
       "      <td>0.584081</td>\n",
       "      <td>370</td>\n",
       "      <td>2.718295</td>\n",
       "      <td>20.718295</td>\n",
       "    </tr>\n",
       "    <tr>\n",
       "      <th>2</th>\n",
       "      <td>1003</td>\n",
       "      <td>2021-04-12 16:40:26+00:00</td>\n",
       "      <td>3</td>\n",
       "      <td>3</td>\n",
       "      <td>30</td>\n",
       "      <td>0.697411</td>\n",
       "      <td>0.197680</td>\n",
       "      <td>25</td>\n",
       "      <td>3.697411</td>\n",
       "      <td>30.697411</td>\n",
       "    </tr>\n",
       "  </tbody>\n",
       "</table>\n",
       "</div>"
      ],
      "text/plain": [
       "   driver_id           event_timestamp  label_driver_reported_satisfaction  \\\n",
       "0       1001 2021-04-12 10:59:42+00:00                                   1   \n",
       "1       1002 2021-04-12 08:12:10+00:00                                   5   \n",
       "2       1003 2021-04-12 16:40:26+00:00                                   3   \n",
       "\n",
       "   val_to_add  val_to_add_2  conv_rate  acc_rate  avg_daily_trips  \\\n",
       "0           1            10   0.709758  0.692957              402   \n",
       "1           2            20   0.718295  0.584081              370   \n",
       "2           3            30   0.697411  0.197680               25   \n",
       "\n",
       "   conv_rate_plus_val1  conv_rate_plus_val2  \n",
       "0             1.709758            10.709758  \n",
       "1             2.718295            20.718295  \n",
       "2             3.697411            30.697411  "
      ]
     },
     "execution_count": 21,
     "metadata": {},
     "output_type": "execute_result"
    }
   ],
   "source": [
    "training_df"
   ]
  },
  {
   "cell_type": "code",
   "execution_count": null,
   "id": "ee52bc9c-5472-4aa4-a0b6-235bd81dec2d",
   "metadata": {},
   "outputs": [],
   "source": []
  }
 ],
 "metadata": {
  "kernelspec": {
   "display_name": "Python 3 (ipykernel)",
   "language": "python",
   "name": "python3"
  },
  "language_info": {
   "codemirror_mode": {
    "name": "ipython",
    "version": 3
   },
   "file_extension": ".py",
   "mimetype": "text/x-python",
   "name": "python",
   "nbconvert_exporter": "python",
   "pygments_lexer": "ipython3",
   "version": "3.11.8"
  }
 },
 "nbformat": 4,
 "nbformat_minor": 5
}
